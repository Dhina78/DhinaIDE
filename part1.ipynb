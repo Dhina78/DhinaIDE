{
 "cells": [
  {
   "cell_type": "code",
   "execution_count": 6,
   "metadata": {},
   "outputs": [],
   "source": [
    "def file_name(directory):\n",
    "    import glob\n",
    "    import os\n",
    "    import pandas as pd\n",
    "    \n",
    "    selfile = []\n",
    "    filelist = []\n",
    "    \n",
    "    for file in glob.glob(\"*.*\"):\n",
    "        selfile.append(file)\n",
    "    for fileextn in selfile[0:]:\n",
    "        if fileextn.endswith('csv') or fileextn.endswith('xlsx'):\n",
    "            filelist.append(fileextn)\n",
    "    return filelist"
   ]
  },
  {
   "cell_type": "code",
   "execution_count": 7,
   "metadata": {},
   "outputs": [
    {
     "data": {
      "text/plain": [
       "['car.csv', 'Test3.xlsx', 'Test4.xlsx', 'Test6.csv']"
      ]
     },
     "execution_count": 7,
     "metadata": {},
     "output_type": "execute_result"
    }
   ],
   "source": [
    "path = \"C:\\\\Users\\\\Dhina\\\\Documents\\\\Dhina\\\\SDET\"\n",
    "file_name(path)"
   ]
  },
  {
   "cell_type": "code",
   "execution_count": null,
   "metadata": {},
   "outputs": [],
   "source": []
  },
  {
   "cell_type": "code",
   "execution_count": null,
   "metadata": {},
   "outputs": [],
   "source": []
  }
 ],
 "metadata": {
  "kernelspec": {
   "display_name": "Python 3",
   "language": "python",
   "name": "python3"
  },
  "language_info": {
   "codemirror_mode": {
    "name": "ipython",
    "version": 3
   },
   "file_extension": ".py",
   "mimetype": "text/x-python",
   "name": "python",
   "nbconvert_exporter": "python",
   "pygments_lexer": "ipython3",
   "version": "3.7.1"
  }
 },
 "nbformat": 4,
 "nbformat_minor": 2
}
