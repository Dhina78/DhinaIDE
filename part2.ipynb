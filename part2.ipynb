{
 "cells": [
  {
   "cell_type": "code",
   "execution_count": 2,
   "metadata": {},
   "outputs": [],
   "source": [
    "import pandas as pd\n",
    "from selenium import webdriver\n",
    "from selenium.webdriver.common.keys import Keys\n",
    "from selenium.webdriver.support.ui import WebDriverWait\n",
    "from selenium.webdriver.common.by import By\n"
   ]
  },
  {
   "cell_type": "code",
   "execution_count": 3,
   "metadata": {},
   "outputs": [],
   "source": [
    "#1.Use the service layer bean to get supported files (excel or csv are supported, from input directory)\n",
    "#path = \"C:\\\\Users\\\\Dhina\\\\Documents\\\\Dhina\\\\SDET\"\n",
    "#file_name(path)"
   ]
  },
  {
   "cell_type": "code",
   "execution_count": 4,
   "metadata": {},
   "outputs": [
    {
     "name": "stdout",
     "output_type": "stream",
     "text": [
      "    REGNUM COLOUR\n",
      "0  KP15EYR   BLUE\n",
      "1   E55LRE   BLUE\n"
     ]
    }
   ],
   "source": [
    "#read files to get CAR REG number and color\n",
    "path = 'C:\\\\Users\\\\Dhina\\\\Documents\\\\Dhina\\\\SDET\\car.csv'\n",
    "df = pd.read_csv(path)\n",
    "print(df)\n"
   ]
  },
  {
   "cell_type": "code",
   "execution_count": 5,
   "metadata": {},
   "outputs": [
    {
     "name": "stdout",
     "output_type": "stream",
     "text": [
      "0    KP15EYRs dvla colour is BLUE & CSV file color ...\n",
      "1    KP15EYRs dvla colour is BLUE & CSV file color ...\n",
      "Name: COLOUR, dtype: object\n",
      "0    E55LREs dvla colour is BLUE & CSV file color i...\n",
      "1    E55LREs dvla colour is BLUE & CSV file color i...\n",
      "Name: COLOUR, dtype: object\n"
     ]
    }
   ],
   "source": [
    "# your executable path is wherever you saved the chrome webdriver\n",
    "chromedriver = \"C:\\\\Users\\\\Dhina\\\\Anaconda3\\\\pkgs\\\\chromedriver.exe\"\n",
    "driver = webdriver.Chrome(executable_path=chromedriver)\n",
    "url = \"https://www.gov.uk/get-vehicle-information-from-dvla\"\n",
    "\n",
    "driver.implicitly_wait(15)\n",
    "driver.get(url)\n",
    "\n",
    "element = driver.find_element_by_xpath(\"//*[contains(text(),'Start now')]\")\n",
    "element.click()\n",
    "for i in df['REGNUM']:\n",
    "    dvla_colour = ''\n",
    "    element = driver.find_element_by_xpath(\"//*[@id='Vrm']\")\n",
    "    element.send_keys(i)\n",
    "    element.send_keys(Keys.RETURN)\n",
    "    element = driver.find_element_by_xpath(\"//*[contains(text(),'Continue')]\")\n",
    "    element = driver.find_element_by_xpath(\"//*[@id='Colour']\")\n",
    "    dvla_colour = element.get_attribute('value')\n",
    "    print (i+'s '+'dvla colour'+' is '+dvla_colour+' & '+'CSV file color'+' is '+df['COLOUR'])\n",
    "    element = driver.find_element_by_xpath(\"//*[contains(text(),'No, search again')]\")\n",
    "    element.click()\n",
    "    element = driver.find_element_by_xpath(\"//*[contains(text(),'Continue')]\")\n",
    "    element.click()\n",
    "    \n"
   ]
  },
  {
   "cell_type": "code",
   "execution_count": null,
   "metadata": {},
   "outputs": [],
   "source": []
  }
 ],
 "metadata": {
  "kernelspec": {
   "display_name": "Python 3",
   "language": "python",
   "name": "python3"
  },
  "language_info": {
   "codemirror_mode": {
    "name": "ipython",
    "version": 3
   },
   "file_extension": ".py",
   "mimetype": "text/x-python",
   "name": "python",
   "nbconvert_exporter": "python",
   "pygments_lexer": "ipython3",
   "version": "3.7.1"
  }
 },
 "nbformat": 4,
 "nbformat_minor": 2
}
